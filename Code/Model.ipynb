{
 "cells": [
  {
   "cell_type": "code",
   "execution_count": 1,
   "metadata": {},
   "outputs": [],
   "source": [
    "import pandas as pd\n",
    "from pandarallel import pandarallel\n",
    "import ast\n",
    "import matplotlib.pyplot as plt\n",
    "from sklearn.model_selection import train_test_split\n",
    "import nltk\n",
    "from nltk.corpus import stopwords\n",
    "from nltk.stem import SnowballStemmer\n",
    "from nltk.tokenize import word_tokenize\n",
    "from transformers import BertTokenizer, BertModel\n",
    "from sklearn.model_selection import train_test_split\n",
    "import numpy as np\n",
    "from sklearn.feature_extraction.text import CountVectorizer\n",
    "from sklearn.model_selection import StratifiedKFold\n",
    "from sklearn.linear_model import LogisticRegression\n",
    "from sklearn.naive_bayes import MultinomialNB\n",
    "from sklearn.metrics import accuracy_score, precision_score, recall_score, f1_score\n",
    "from sklearn.feature_extraction.text import TfidfVectorizer\n"
   ]
  },
  {
   "cell_type": "code",
   "execution_count": 2,
   "metadata": {},
   "outputs": [],
   "source": [
    "from gensim.models import Word2Vec"
   ]
  },
  {
   "cell_type": "code",
   "execution_count": 3,
   "metadata": {},
   "outputs": [
    {
     "name": "stdout",
     "output_type": "stream",
     "text": [
      "INFO: Pandarallel will run on 10 workers.\n",
      "INFO: Pandarallel will use standard multiprocessing data transfer (pipe) to transfer data between the main process and workers.\n",
      "\n",
      "WARNING: You are on Windows. If you detect any issue with pandarallel, be sure you checked out the Troubleshooting page:\n",
      "https://nalepae.github.io/pandarallel/troubleshooting/\n"
     ]
    }
   ],
   "source": [
    "pandarallel.initialize(progress_bar=True)"
   ]
  },
  {
   "cell_type": "code",
   "execution_count": 4,
   "metadata": {},
   "outputs": [],
   "source": [
    "dataRew=pd.read_csv('../Dataset/datiClean.csv')\n",
    "dataMovie=pd.read_csv('../Dataset/movieclean.csv')"
   ]
  },
  {
   "cell_type": "code",
   "execution_count": 5,
   "metadata": {},
   "outputs": [
    {
     "data": {
      "application/vnd.jupyter.widget-view+json": {
       "model_id": "ed43c68b286c4a9685f5c6f7ef9265be",
       "version_major": 2,
       "version_minor": 0
      },
      "text/plain": [
       "VBox(children=(HBox(children=(IntProgress(value=0, description='0.00%', max=57392), Label(value='0 / 57392')))…"
      ]
     },
     "metadata": {},
     "output_type": "display_data"
    }
   ],
   "source": [
    "dataRew[\"clean_review\"]=dataRew.loc[:,\"clean_review\"].parallel_apply(ast.literal_eval)"
   ]
  },
  {
   "cell_type": "code",
   "execution_count": 6,
   "metadata": {},
   "outputs": [
    {
     "data": {
      "application/vnd.jupyter.widget-view+json": {
       "model_id": "c96e118a4c6e4ac9b732024d6cce7e2e",
       "version_major": 2,
       "version_minor": 0
      },
      "text/plain": [
       "VBox(children=(HBox(children=(IntProgress(value=0, description='0.00%', max=158), Label(value='0 / 158'))), HB…"
      ]
     },
     "metadata": {},
     "output_type": "display_data"
    }
   ],
   "source": [
    "dataMovie[\"plot_clean\"]=dataMovie.loc[:,\"plot_clean\"].parallel_apply(ast.literal_eval)"
   ]
  },
  {
   "cell_type": "code",
   "execution_count": 7,
   "metadata": {},
   "outputs": [],
   "source": [
    "dataRew.drop(['review_text'],axis=1,inplace=True)"
   ]
  },
  {
   "cell_type": "code",
   "execution_count": 8,
   "metadata": {},
   "outputs": [],
   "source": [
    "dataMovie.drop(['plot_synopsis','plot_summary'],axis=1,inplace=True)"
   ]
  },
  {
   "cell_type": "markdown",
   "metadata": {},
   "source": [
    "### Split the Dataset\n",
    "\n",
    "important distribute well the labels in the train and test dataset"
   ]
  },
  {
   "cell_type": "code",
   "execution_count": 9,
   "metadata": {},
   "outputs": [],
   "source": [
    "dataRew.drop(['review_date','movie_id','user_id','rating','review_summary'],axis=1,inplace=True)"
   ]
  },
  {
   "cell_type": "code",
   "execution_count": 10,
   "metadata": {},
   "outputs": [],
   "source": [
    "x=dataRew['clean_review']\n",
    "y=dataRew['is_spoiler']"
   ]
  },
  {
   "cell_type": "code",
   "execution_count": 11,
   "metadata": {},
   "outputs": [],
   "source": [
    "## Stratify bilancia i dataset \n",
    "X_train, X_test, y_train, y_test = train_test_split(x, y, test_size=0.2, stratify=y,random_state=42)"
   ]
  },
  {
   "cell_type": "code",
   "execution_count": 12,
   "metadata": {},
   "outputs": [
    {
     "data": {
      "text/plain": [
       "is_spoiler\n",
       "False    338391\n",
       "True     120739\n",
       "Name: count, dtype: int64"
      ]
     },
     "execution_count": 12,
     "metadata": {},
     "output_type": "execute_result"
    }
   ],
   "source": [
    "y_train.value_counts()"
   ]
  },
  {
   "cell_type": "code",
   "execution_count": 13,
   "metadata": {},
   "outputs": [
    {
     "data": {
      "text/plain": [
       "is_spoiler\n",
       "False    84598\n",
       "True     30185\n",
       "Name: count, dtype: int64"
      ]
     },
     "execution_count": 13,
     "metadata": {},
     "output_type": "execute_result"
    }
   ],
   "source": [
    "y_test.value_counts()"
   ]
  },
  {
   "cell_type": "markdown",
   "metadata": {},
   "source": [
    "### Apply Logistic Regression and Naive Bayes, with k fold"
   ]
  },
  {
   "cell_type": "markdown",
   "metadata": {},
   "source": [
    "### Function for computing the result of the model"
   ]
  },
  {
   "cell_type": "code",
   "execution_count": 14,
   "metadata": {},
   "outputs": [],
   "source": [
    "def print_mean():\n",
    "    # Calcola le medie delle metriche\n",
    "    mean_accuracy = np.mean(metrics['accuracy'])\n",
    "    mean_precision = np.mean(metrics['precision'])\n",
    "    mean_recall = np.mean(metrics['recall'])\n",
    "    mean_f1_score = np.mean(metrics['f1_score'])\n",
    "\n",
    "    # Stampa le medie delle metriche\n",
    "    print(\"Mean Accuracy:\", mean_accuracy)\n",
    "    print(\"Mean Precision:\", mean_precision)\n",
    "    print(\"Mean Recall:\", mean_recall)\n",
    "    print(\"Mean F1 Score:\", mean_f1_score)"
   ]
  },
  {
   "cell_type": "code",
   "execution_count": 15,
   "metadata": {},
   "outputs": [],
   "source": [
    "def print_test(y_pred_test):\n",
    "    # Calcolo delle metriche di valutazione sul set di test\n",
    "    accuracy_test = accuracy_score(y_test, y_pred_test)\n",
    "    precision_test = precision_score(y_test, y_pred_test)\n",
    "    recall_test = recall_score(y_test, y_pred_test)\n",
    "    f1_score_test = f1_score(y_test, y_pred_test)\n",
    "\n",
    "    # Stampa delle metriche di valutazione sul set di test\n",
    "    print(\"Test Accuracy:\", accuracy_test)\n",
    "    print(\"Test Precision:\", precision_test)\n",
    "    print(\"Test Recall:\", recall_test)\n",
    "    print(\"Test F1 Score:\", f1_score_test)"
   ]
  },
  {
   "cell_type": "code",
   "execution_count": 16,
   "metadata": {},
   "outputs": [],
   "source": [
    "metrics = {\n",
    "    'accuracy': [],\n",
    "    'precision': [],\n",
    "    'recall': [],\n",
    "    'f1_score': []\n",
    "}\n",
    "def computeLogistic(folds,iter,X,y_train):\n",
    "    logistic_reg=LogisticRegression(max_iter=iter)\n",
    "    ## Stratified k-fold grant me a balance division of classes\n",
    "\n",
    "    kf = StratifiedKFold(n_splits=folds, shuffle=True, random_state=42)\n",
    "    for train_index, val_index in kf.split(X, y_train):\n",
    "        X_fold_train, X_fold_val = X[train_index], X[val_index]\n",
    "        y_fold_train, y_fold_val = y_train[train_index], y_train[val_index]\n",
    "        \n",
    "        # Training\n",
    "        logistic_reg.fit(X_fold_train, y_fold_train)\n",
    "        \n",
    "        # Validation\n",
    "        y_pred = logistic_reg.predict(X_fold_val)\n",
    "        \n",
    "        # Compute metrics\n",
    "        metrics['accuracy'].append(accuracy_score(y_fold_val, y_pred))\n",
    "        metrics['precision'].append(precision_score(y_fold_val, y_pred))\n",
    "        metrics['recall'].append(recall_score(y_fold_val, y_pred))\n",
    "        metrics['f1_score'].append(f1_score(y_fold_val, y_pred))\n",
    "    return logistic_reg"
   ]
  },
  {
   "cell_type": "code",
   "execution_count": 17,
   "metadata": {},
   "outputs": [],
   "source": [
    "metrics = {\n",
    "    'accuracy': [],\n",
    "    'precision': [],\n",
    "    'recall': [],\n",
    "    'f1_score': []\n",
    "}\n",
    "def compute_naive(folds,X,y_train):\n",
    "    kf = StratifiedKFold(n_splits=folds, shuffle=True, random_state=42)\n",
    "    naive_bayes = MultinomialNB()\n",
    "    \n",
    "    for train_index, val_index in kf.split(X, y_train):\n",
    "        X_fold_train, X_fold_val = X[train_index], X[val_index]\n",
    "        y_fold_train, y_fold_val = y_train[train_index], y_train[val_index]\n",
    "        \n",
    "        # Training\n",
    "        naive_bayes.fit(X_fold_train, y_fold_train)\n",
    "        \n",
    "        # Validation\n",
    "        y_pred = naive_bayes.predict(X_fold_val)\n",
    "        \n",
    "        # Compute metrics\n",
    "        metrics['accuracy'].append(accuracy_score(y_fold_val, y_pred))\n",
    "        metrics['precision'].append(precision_score(y_fold_val, y_pred))\n",
    "        metrics['recall'].append(recall_score(y_fold_val, y_pred))\n",
    "        metrics['f1_score'].append(f1_score(y_fold_val, y_pred))\n",
    "    return naive_bayes"
   ]
  },
  {
   "cell_type": "markdown",
   "metadata": {},
   "source": [
    "### Using Bag of Words"
   ]
  },
  {
   "cell_type": "markdown",
   "metadata": {},
   "source": [
    "first create the text, using the array of vector"
   ]
  },
  {
   "cell_type": "code",
   "execution_count": 18,
   "metadata": {},
   "outputs": [],
   "source": [
    "text=[\" \".join(word) for word in X_train]"
   ]
  },
  {
   "cell_type": "code",
   "execution_count": 19,
   "metadata": {},
   "outputs": [],
   "source": [
    "textT=[\" \".join(word) for word in X_test]"
   ]
  },
  {
   "cell_type": "code",
   "execution_count": 20,
   "metadata": {},
   "outputs": [],
   "source": [
    "## Bag of Words for train\n",
    "vect=CountVectorizer()\n",
    "X=vect.fit_transform(text)"
   ]
  },
  {
   "cell_type": "code",
   "execution_count": 21,
   "metadata": {},
   "outputs": [],
   "source": [
    "## Bag of Words for test\n",
    "X_t=vect.transform(textT)"
   ]
  },
  {
   "cell_type": "code",
   "execution_count": 22,
   "metadata": {},
   "outputs": [],
   "source": [
    "y_train=y_train.values\n",
    "y_test=y_test.values"
   ]
  },
  {
   "cell_type": "markdown",
   "metadata": {},
   "source": [
    "## Logistic Regression"
   ]
  },
  {
   "cell_type": "markdown",
   "metadata": {},
   "source": [
    "### Result Train and Validation"
   ]
  },
  {
   "cell_type": "code",
   "execution_count": 23,
   "metadata": {},
   "outputs": [
    {
     "name": "stderr",
     "output_type": "stream",
     "text": [
      "c:\\Python311\\Lib\\site-packages\\sklearn\\linear_model\\_logistic.py:469: ConvergenceWarning: lbfgs failed to converge (status=1):\n",
      "STOP: TOTAL NO. of ITERATIONS REACHED LIMIT.\n",
      "\n",
      "Increase the number of iterations (max_iter) or scale the data as shown in:\n",
      "    https://scikit-learn.org/stable/modules/preprocessing.html\n",
      "Please also refer to the documentation for alternative solver options:\n",
      "    https://scikit-learn.org/stable/modules/linear_model.html#logistic-regression\n",
      "  n_iter_i = _check_optimize_result(\n",
      "c:\\Python311\\Lib\\site-packages\\sklearn\\linear_model\\_logistic.py:469: ConvergenceWarning: lbfgs failed to converge (status=1):\n",
      "STOP: TOTAL NO. of ITERATIONS REACHED LIMIT.\n",
      "\n",
      "Increase the number of iterations (max_iter) or scale the data as shown in:\n",
      "    https://scikit-learn.org/stable/modules/preprocessing.html\n",
      "Please also refer to the documentation for alternative solver options:\n",
      "    https://scikit-learn.org/stable/modules/linear_model.html#logistic-regression\n",
      "  n_iter_i = _check_optimize_result(\n",
      "c:\\Python311\\Lib\\site-packages\\sklearn\\linear_model\\_logistic.py:469: ConvergenceWarning: lbfgs failed to converge (status=1):\n",
      "STOP: TOTAL NO. of ITERATIONS REACHED LIMIT.\n",
      "\n",
      "Increase the number of iterations (max_iter) or scale the data as shown in:\n",
      "    https://scikit-learn.org/stable/modules/preprocessing.html\n",
      "Please also refer to the documentation for alternative solver options:\n",
      "    https://scikit-learn.org/stable/modules/linear_model.html#logistic-regression\n",
      "  n_iter_i = _check_optimize_result(\n",
      "c:\\Python311\\Lib\\site-packages\\sklearn\\linear_model\\_logistic.py:469: ConvergenceWarning: lbfgs failed to converge (status=1):\n",
      "STOP: TOTAL NO. of ITERATIONS REACHED LIMIT.\n",
      "\n",
      "Increase the number of iterations (max_iter) or scale the data as shown in:\n",
      "    https://scikit-learn.org/stable/modules/preprocessing.html\n",
      "Please also refer to the documentation for alternative solver options:\n",
      "    https://scikit-learn.org/stable/modules/linear_model.html#logistic-regression\n",
      "  n_iter_i = _check_optimize_result(\n",
      "c:\\Python311\\Lib\\site-packages\\sklearn\\linear_model\\_logistic.py:469: ConvergenceWarning: lbfgs failed to converge (status=1):\n",
      "STOP: TOTAL NO. of ITERATIONS REACHED LIMIT.\n",
      "\n",
      "Increase the number of iterations (max_iter) or scale the data as shown in:\n",
      "    https://scikit-learn.org/stable/modules/preprocessing.html\n",
      "Please also refer to the documentation for alternative solver options:\n",
      "    https://scikit-learn.org/stable/modules/linear_model.html#logistic-regression\n",
      "  n_iter_i = _check_optimize_result(\n"
     ]
    },
    {
     "name": "stdout",
     "output_type": "stream",
     "text": [
      "Mean Accuracy: 0.7686668263890402\n",
      "Mean Precision: 0.6023523766452841\n",
      "Mean Recall: 0.35405298385004347\n",
      "Mean F1 Score: 0.44596791661009466\n"
     ]
    }
   ],
   "source": [
    "logistic_reg=computeLogistic(5,1000,X,y_train)\n",
    "print_mean()"
   ]
  },
  {
   "cell_type": "markdown",
   "metadata": {},
   "source": [
    "### Result Test"
   ]
  },
  {
   "cell_type": "code",
   "execution_count": 24,
   "metadata": {},
   "outputs": [
    {
     "name": "stdout",
     "output_type": "stream",
     "text": [
      "Test Accuracy: 0.7684151834330868\n",
      "Test Precision: 0.6008509208979455\n",
      "Test Recall: 0.35557396057644525\n",
      "Test F1 Score: 0.4467615717615718\n"
     ]
    }
   ],
   "source": [
    "y_pred_test = logistic_reg.predict(X_t)\n",
    "print_test(y_pred_test)\n"
   ]
  },
  {
   "cell_type": "markdown",
   "metadata": {},
   "source": [
    "## Naive Bayes"
   ]
  },
  {
   "cell_type": "markdown",
   "metadata": {},
   "source": [
    "### Result Validation, Training"
   ]
  },
  {
   "cell_type": "code",
   "execution_count": 25,
   "metadata": {},
   "outputs": [
    {
     "name": "stdout",
     "output_type": "stream",
     "text": [
      "Mean Accuracy: 0.7532997190338249\n",
      "Mean Precision: 0.5520644856460131\n",
      "Mean Recall: 0.4214255696736403\n",
      "Mean F1 Score: 0.4705832396362616\n"
     ]
    }
   ],
   "source": [
    "naive_bayes=compute_naive(5,X,y_train)\n",
    "print_mean()"
   ]
  },
  {
   "cell_type": "markdown",
   "metadata": {},
   "source": [
    "### Result Test"
   ]
  },
  {
   "cell_type": "code",
   "execution_count": 26,
   "metadata": {},
   "outputs": [
    {
     "name": "stdout",
     "output_type": "stream",
     "text": [
      "Test Accuracy: 0.7393080856921321\n",
      "Test Precision: 0.50453789663295\n",
      "Test Recall: 0.4825244326652311\n",
      "Test F1 Score: 0.4932856925135048\n"
     ]
    }
   ],
   "source": [
    "y_pred_test = naive_bayes.predict(X_t)\n",
    "\n",
    "print_test(y_pred_test)"
   ]
  },
  {
   "cell_type": "markdown",
   "metadata": {},
   "source": [
    "## Tf-idf"
   ]
  },
  {
   "cell_type": "code",
   "execution_count": 27,
   "metadata": {},
   "outputs": [],
   "source": [
    "\n",
    "tfidf_vectorizer = TfidfVectorizer()\n",
    "X_train_tfidf = tfidf_vectorizer.fit_transform(text)\n",
    "X_test_tfidf = tfidf_vectorizer.transform(textT)"
   ]
  },
  {
   "cell_type": "markdown",
   "metadata": {},
   "source": [
    "### Logistic Regression"
   ]
  },
  {
   "cell_type": "code",
   "execution_count": 28,
   "metadata": {},
   "outputs": [
    {
     "name": "stdout",
     "output_type": "stream",
     "text": [
      "Mean Accuracy: 0.7615664408773115\n",
      "Mean Precision: 0.5864302834810246\n",
      "Mean Recall: 0.3908789671580638\n",
      "Mean F1 Score: 0.45996195952818264\n"
     ]
    }
   ],
   "source": [
    "logistic_reg=computeLogistic(5,1000,X_train_tfidf,y_train)\n",
    "print_mean()"
   ]
  },
  {
   "cell_type": "code",
   "execution_count": 29,
   "metadata": {},
   "outputs": [
    {
     "name": "stdout",
     "output_type": "stream",
     "text": [
      "Test Accuracy: 0.7792791615483129\n",
      "Test Precision: 0.6541836215666328\n",
      "Test Recall: 0.340864667881398\n",
      "Test F1 Score: 0.44819550018513277\n"
     ]
    }
   ],
   "source": [
    "y_pred_test = logistic_reg.predict(X_test_tfidf)\n",
    "print_test(y_pred_test)"
   ]
  },
  {
   "cell_type": "markdown",
   "metadata": {},
   "source": [
    "### Naive Bayes"
   ]
  },
  {
   "cell_type": "code",
   "execution_count": 30,
   "metadata": {},
   "outputs": [
    {
     "name": "stdout",
     "output_type": "stream",
     "text": [
      "Mean Accuracy: 0.7564028706466578\n",
      "Mean Precision: 0.6155653905621541\n",
      "Mean Recall: 0.29955939422689715\n",
      "Mean F1 Score: 0.35732178852560276\n"
     ]
    }
   ],
   "source": [
    "naive_bayes=compute_naive(5,X_train_tfidf,y_train)\n",
    "print_mean()"
   ]
  },
  {
   "cell_type": "code",
   "execution_count": 31,
   "metadata": {},
   "outputs": [
    {
     "name": "stdout",
     "output_type": "stream",
     "text": [
      "Test Accuracy: 0.7404493696801792\n",
      "Test Precision: 0.7405140758873929\n",
      "Test Recall: 0.020043067748881895\n",
      "Test F1 Score: 0.03902974001677311\n"
     ]
    }
   ],
   "source": [
    "y_pred_test = naive_bayes.predict(X_test_tfidf)\n",
    "\n",
    "print_test(y_pred_test)"
   ]
  },
  {
   "cell_type": "markdown",
   "metadata": {},
   "source": [
    "### Word2Vec"
   ]
  },
  {
   "cell_type": "code",
   "execution_count": 32,
   "metadata": {},
   "outputs": [],
   "source": [
    "word2vec_model = Word2Vec(X_train, vector_size=100, window=5, min_count=1, sg=1)"
   ]
  },
  {
   "cell_type": "code",
   "execution_count": 33,
   "metadata": {},
   "outputs": [],
   "source": [
    "X_word2vec = np.array([np.mean([word2vec_model.wv[word] for word in text], axis=0) for text in X_train])"
   ]
  },
  {
   "cell_type": "code",
   "execution_count": 34,
   "metadata": {},
   "outputs": [
    {
     "data": {
      "text/plain": [
       "array([[-0.04834579,  0.2841282 , -0.10264044, ..., -0.16725683,\n",
       "        -0.11757316, -0.03393182],\n",
       "       [-0.05603926,  0.15854234, -0.0811372 , ..., -0.12656689,\n",
       "        -0.01731962, -0.04962974],\n",
       "       [-0.08749289,  0.16103889, -0.0255836 , ..., -0.11368482,\n",
       "        -0.06867209, -0.03077317],\n",
       "       ...,\n",
       "       [-0.01828191,  0.07131239, -0.04039155, ..., -0.17059858,\n",
       "        -0.08910269, -0.04211525],\n",
       "       [-0.03206557,  0.12978096, -0.03692603, ..., -0.10016799,\n",
       "        -0.04412956, -0.11155412],\n",
       "       [-0.04023359,  0.11168694, -0.00288379, ..., -0.1801767 ,\n",
       "        -0.05142977, -0.07167739]], dtype=float32)"
      ]
     },
     "execution_count": 34,
     "metadata": {},
     "output_type": "execute_result"
    }
   ],
   "source": [
    "X_word2vec"
   ]
  },
  {
   "cell_type": "code",
   "execution_count": 35,
   "metadata": {},
   "outputs": [
    {
     "name": "stdout",
     "output_type": "stream",
     "text": [
      "Mean Accuracy: 0.7559188029534119\n",
      "Mean Precision: 0.611770225040668\n",
      "Mean Recall: 0.27949710753400653\n",
      "Mean F1 Score: 0.3455985286334403\n"
     ]
    }
   ],
   "source": [
    "logistic_reg=computeLogistic(5,1000,X_word2vec,y_train)\n",
    "print_mean()"
   ]
  },
  {
   "cell_type": "code",
   "execution_count": 36,
   "metadata": {},
   "outputs": [],
   "source": [
    "naive_bayes=compute_naive(5,X_train_tfidf,y_train)\n",
    "print_mean()"
   ]
  },
  {
   "cell_type": "markdown",
   "metadata": {},
   "source": [
    "### Apply Pre-Trained Model"
   ]
  },
  {
   "cell_type": "code",
   "execution_count": null,
   "metadata": {},
   "outputs": [],
   "source": [
    "text"
   ]
  },
  {
   "cell_type": "code",
   "execution_count": null,
   "metadata": {},
   "outputs": [],
   "source": []
  }
 ],
 "metadata": {
  "kernelspec": {
   "display_name": "Python 3",
   "language": "python",
   "name": "python3"
  },
  "language_info": {
   "codemirror_mode": {
    "name": "ipython",
    "version": 3
   },
   "file_extension": ".py",
   "mimetype": "text/x-python",
   "name": "python",
   "nbconvert_exporter": "python",
   "pygments_lexer": "ipython3",
   "version": "3.11.3"
  }
 },
 "nbformat": 4,
 "nbformat_minor": 2
}
