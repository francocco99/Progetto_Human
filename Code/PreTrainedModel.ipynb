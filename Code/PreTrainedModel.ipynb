{
 "cells": [
  {
   "cell_type": "code",
   "execution_count": 1,
   "metadata": {},
   "outputs": [],
   "source": [
    "import pandas as pd\n",
    "import torch\n",
    "import numpy as np\n",
    "import ast\n",
    "from transformers import BertTokenizer\n",
    "from transformers import BertForSequenceClassification\n",
    "from torch.utils.data import TensorDataset, DataLoader\n",
    "from transformers import AdamW\n",
    "from sklearn.model_selection import train_test_split\n",
    "from pandarallel import pandarallel"
   ]
  },
  {
   "cell_type": "code",
   "execution_count": 2,
   "metadata": {},
   "outputs": [],
   "source": [
    "dataRew=pd.read_csv(\"../Dataset/datiClean.csv\")"
   ]
  },
  {
   "cell_type": "code",
   "execution_count": 3,
   "metadata": {},
   "outputs": [],
   "source": [
    "dataRew.drop(['review_date','movie_id','user_id','rating','review_summary'],axis=1,inplace=True)"
   ]
  },
  {
   "cell_type": "code",
   "execution_count": 4,
   "metadata": {},
   "outputs": [
    {
     "name": "stdout",
     "output_type": "stream",
     "text": [
      "INFO: Pandarallel will run on 10 workers.\n",
      "INFO: Pandarallel will use standard multiprocessing data transfer (pipe) to transfer data between the main process and workers.\n",
      "\n",
      "WARNING: You are on Windows. If you detect any issue with pandarallel, be sure you checked out the Troubleshooting page:\n",
      "https://nalepae.github.io/pandarallel/troubleshooting/\n"
     ]
    }
   ],
   "source": [
    "pandarallel.initialize(progress_bar=True)"
   ]
  },
  {
   "cell_type": "code",
   "execution_count": null,
   "metadata": {},
   "outputs": [
    {
     "data": {
      "text/html": [
       "<div>\n",
       "<style scoped>\n",
       "    .dataframe tbody tr th:only-of-type {\n",
       "        vertical-align: middle;\n",
       "    }\n",
       "\n",
       "    .dataframe tbody tr th {\n",
       "        vertical-align: top;\n",
       "    }\n",
       "\n",
       "    .dataframe thead th {\n",
       "        text-align: right;\n",
       "    }\n",
       "</style>\n",
       "<table border=\"1\" class=\"dataframe\">\n",
       "  <thead>\n",
       "    <tr style=\"text-align: right;\">\n",
       "      <th></th>\n",
       "      <th>is_spoiler</th>\n",
       "      <th>review_text</th>\n",
       "      <th>clean_review</th>\n",
       "    </tr>\n",
       "  </thead>\n",
       "  <tbody>\n",
       "    <tr>\n",
       "      <th>0</th>\n",
       "      <td>True</td>\n",
       "      <td>In its Oscar year, Shawshank Redemption (writt...</td>\n",
       "      <td>['oscar', 'year', 'shawshank', 'redemption', '...</td>\n",
       "    </tr>\n",
       "    <tr>\n",
       "      <th>1</th>\n",
       "      <td>True</td>\n",
       "      <td>The Shawshank Redemption is without a doubt on...</td>\n",
       "      <td>['shawshank', 'redemption', 'without', 'doubt'...</td>\n",
       "    </tr>\n",
       "    <tr>\n",
       "      <th>2</th>\n",
       "      <td>True</td>\n",
       "      <td>I believe that this film is the best story eve...</td>\n",
       "      <td>['believe', 'film', 'best', 'story', 'ever', '...</td>\n",
       "    </tr>\n",
       "    <tr>\n",
       "      <th>3</th>\n",
       "      <td>True</td>\n",
       "      <td>**Yes, there are SPOILERS here**This film has ...</td>\n",
       "      <td>['yes', 'spoiler', 'film', 'emotional', 'impac...</td>\n",
       "    </tr>\n",
       "    <tr>\n",
       "      <th>4</th>\n",
       "      <td>True</td>\n",
       "      <td>At the heart of this extraordinary movie is a ...</td>\n",
       "      <td>['heart', 'extraordinary', 'movie', 'brilliant...</td>\n",
       "    </tr>\n",
       "    <tr>\n",
       "      <th>...</th>\n",
       "      <td>...</td>\n",
       "      <td>...</td>\n",
       "      <td>...</td>\n",
       "    </tr>\n",
       "    <tr>\n",
       "      <th>573908</th>\n",
       "      <td>False</td>\n",
       "      <td>Go is wise, fast and pure entertainment. Assem...</td>\n",
       "      <td>['go', 'wise', 'fast', 'pure', 'entertainment'...</td>\n",
       "    </tr>\n",
       "    <tr>\n",
       "      <th>573909</th>\n",
       "      <td>False</td>\n",
       "      <td>Well, what shall I say. this one´s fun at any ...</td>\n",
       "      <td>['well', 'shall', 'say', 'one', 'fun', 'rate',...</td>\n",
       "    </tr>\n",
       "    <tr>\n",
       "      <th>573910</th>\n",
       "      <td>False</td>\n",
       "      <td>Go is the best movie I have ever seen, and I'v...</td>\n",
       "      <td>['go', 'best', 'movie', 'ever', 'seen', 'seen'...</td>\n",
       "    </tr>\n",
       "    <tr>\n",
       "      <th>573911</th>\n",
       "      <td>False</td>\n",
       "      <td>Call this 1999 teenage version of Pulp Fiction...</td>\n",
       "      <td>['call', '1999', 'teenage', 'version', 'pulp',...</td>\n",
       "    </tr>\n",
       "    <tr>\n",
       "      <th>573912</th>\n",
       "      <td>False</td>\n",
       "      <td>Why was this movie made? No doubt to sucker in...</td>\n",
       "      <td>['movie', 'made', 'doubt', 'sucker', 'family',...</td>\n",
       "    </tr>\n",
       "  </tbody>\n",
       "</table>\n",
       "<p>573913 rows × 3 columns</p>\n",
       "</div>"
      ],
      "text/plain": [
       "        is_spoiler                                        review_text  \\\n",
       "0             True  In its Oscar year, Shawshank Redemption (writt...   \n",
       "1             True  The Shawshank Redemption is without a doubt on...   \n",
       "2             True  I believe that this film is the best story eve...   \n",
       "3             True  **Yes, there are SPOILERS here**This film has ...   \n",
       "4             True  At the heart of this extraordinary movie is a ...   \n",
       "...            ...                                                ...   \n",
       "573908       False  Go is wise, fast and pure entertainment. Assem...   \n",
       "573909       False  Well, what shall I say. this one´s fun at any ...   \n",
       "573910       False  Go is the best movie I have ever seen, and I'v...   \n",
       "573911       False  Call this 1999 teenage version of Pulp Fiction...   \n",
       "573912       False  Why was this movie made? No doubt to sucker in...   \n",
       "\n",
       "                                             clean_review  \n",
       "0       ['oscar', 'year', 'shawshank', 'redemption', '...  \n",
       "1       ['shawshank', 'redemption', 'without', 'doubt'...  \n",
       "2       ['believe', 'film', 'best', 'story', 'ever', '...  \n",
       "3       ['yes', 'spoiler', 'film', 'emotional', 'impac...  \n",
       "4       ['heart', 'extraordinary', 'movie', 'brilliant...  \n",
       "...                                                   ...  \n",
       "573908  ['go', 'wise', 'fast', 'pure', 'entertainment'...  \n",
       "573909  ['well', 'shall', 'say', 'one', 'fun', 'rate',...  \n",
       "573910  ['go', 'best', 'movie', 'ever', 'seen', 'seen'...  \n",
       "573911  ['call', '1999', 'teenage', 'version', 'pulp',...  \n",
       "573912  ['movie', 'made', 'doubt', 'sucker', 'family',...  \n",
       "\n",
       "[573913 rows x 3 columns]"
      ]
     },
     "execution_count": 11,
     "metadata": {},
     "output_type": "execute_result"
    }
   ],
   "source": [
    "dataRew"
   ]
  },
  {
   "cell_type": "code",
   "execution_count": 5,
   "metadata": {},
   "outputs": [
    {
     "data": {
      "application/vnd.jupyter.widget-view+json": {
       "model_id": "e48c38ee4ba246e28d6da21ef23d006c",
       "version_major": 2,
       "version_minor": 0
      },
      "text/plain": [
       "VBox(children=(HBox(children=(IntProgress(value=0, description='0.00%', max=57392), Label(value='0 / 57392')))…"
      ]
     },
     "metadata": {},
     "output_type": "display_data"
    }
   ],
   "source": [
    "dataRew[\"clean_review\"]=dataRew.loc[:,\"clean_review\"].parallel_apply(ast.literal_eval)\n"
   ]
  },
  {
   "cell_type": "code",
   "execution_count": null,
   "metadata": {},
   "outputs": [
    {
     "name": "stdout",
     "output_type": "stream",
     "text": [
      "INFO: Pandarallel will run on 10 workers.\n",
      "INFO: Pandarallel will use standard multiprocessing data transfer (pipe) to transfer data between the main process and workers.\n",
      "\n",
      "WARNING: You are on Windows. If you detect any issue with pandarallel, be sure you checked out the Troubleshooting page:\n",
      "https://nalepae.github.io/pandarallel/troubleshooting/\n"
     ]
    }
   ],
   "source": []
  },
  {
   "cell_type": "code",
   "execution_count": 17,
   "metadata": {},
   "outputs": [],
   "source": [
    "x=dataRew['clean_review']\n",
    "y=dataRew['is_spoiler']"
   ]
  },
  {
   "cell_type": "code",
   "execution_count": 18,
   "metadata": {},
   "outputs": [],
   "source": [
    "## Stratify bilancia i dataset \n",
    "X_train, X_test, y_train, y_test = train_test_split(x, y, test_size=0.2, stratify=y,random_state=42)"
   ]
  },
  {
   "cell_type": "code",
   "execution_count": 19,
   "metadata": {},
   "outputs": [
    {
     "data": {
      "text/plain": [
       "94625     [maltese, falcon, film, noir, based, novel, ti...\n",
       "89585     [water, scarce, resource, dispensed, made, ava...\n",
       "187840    [really, expecting, lot, given, hype, wow, ove...\n",
       "265694    [movie, awful, scary, character, dull, plot, t...\n",
       "125407    [town, excellent, film, flaw, however, one, be...\n",
       "                                ...                        \n",
       "174403    [hack, job, review, film, released, admit, exp...\n",
       "274593    [film, like, american, psycho, one, attracts, ...\n",
       "514599    [braveheart, currently, listed, imdb, list, to...\n",
       "203500    [predictable, uninteresting, transparently, ge...\n",
       "221631    [okay, first, let, say, movie, may, seem, like...\n",
       "Name: clean_review, Length: 459130, dtype: object"
      ]
     },
     "execution_count": 19,
     "metadata": {},
     "output_type": "execute_result"
    }
   ],
   "source": [
    "X_train"
   ]
  },
  {
   "cell_type": "markdown",
   "metadata": {},
   "source": [
    "### Bert\n"
   ]
  },
  {
   "cell_type": "code",
   "execution_count": 21,
   "metadata": {},
   "outputs": [],
   "source": [
    "tokenizer=BertTokenizer.from_pretrained('bert-base-uncased')"
   ]
  },
  {
   "cell_type": "code",
   "execution_count": 22,
   "metadata": {},
   "outputs": [],
   "source": [
    "def cleanFullrew(text):\n",
    "    text=\" \".join(text)\n",
    "    return text\n"
   ]
  },
  {
   "cell_type": "code",
   "execution_count": 23,
   "metadata": {},
   "outputs": [],
   "source": [
    "prova=dataRew.loc[1,\"clean_review\"]"
   ]
  },
  {
   "cell_type": "code",
   "execution_count": 24,
   "metadata": {},
   "outputs": [
    {
     "data": {
      "application/vnd.jupyter.widget-view+json": {
       "model_id": "ff09def7e1d0468e9c8d731f4e480f9d",
       "version_major": 2,
       "version_minor": 0
      },
      "text/plain": [
       "VBox(children=(HBox(children=(IntProgress(value=0, description='0.00%', max=57392), Label(value='0 / 57392')))…"
      ]
     },
     "metadata": {},
     "output_type": "display_data"
    }
   ],
   "source": [
    "dataRew[\"clean_review_text\"]=dataRew[\"clean_review\"].parallel_apply(cleanFullrew)"
   ]
  },
  {
   "cell_type": "code",
   "execution_count": 25,
   "metadata": {},
   "outputs": [
    {
     "data": {
      "text/html": [
       "<div>\n",
       "<style scoped>\n",
       "    .dataframe tbody tr th:only-of-type {\n",
       "        vertical-align: middle;\n",
       "    }\n",
       "\n",
       "    .dataframe tbody tr th {\n",
       "        vertical-align: top;\n",
       "    }\n",
       "\n",
       "    .dataframe thead th {\n",
       "        text-align: right;\n",
       "    }\n",
       "</style>\n",
       "<table border=\"1\" class=\"dataframe\">\n",
       "  <thead>\n",
       "    <tr style=\"text-align: right;\">\n",
       "      <th></th>\n",
       "      <th>is_spoiler</th>\n",
       "      <th>review_text</th>\n",
       "      <th>clean_review</th>\n",
       "      <th>clean_review_text</th>\n",
       "    </tr>\n",
       "  </thead>\n",
       "  <tbody>\n",
       "    <tr>\n",
       "      <th>0</th>\n",
       "      <td>True</td>\n",
       "      <td>In its Oscar year, Shawshank Redemption (writt...</td>\n",
       "      <td>[oscar, year, shawshank, redemption, written, ...</td>\n",
       "      <td>oscar year shawshank redemption written direct...</td>\n",
       "    </tr>\n",
       "    <tr>\n",
       "      <th>1</th>\n",
       "      <td>True</td>\n",
       "      <td>The Shawshank Redemption is without a doubt on...</td>\n",
       "      <td>[shawshank, redemption, without, doubt, one, b...</td>\n",
       "      <td>shawshank redemption without doubt one brillia...</td>\n",
       "    </tr>\n",
       "    <tr>\n",
       "      <th>2</th>\n",
       "      <td>True</td>\n",
       "      <td>I believe that this film is the best story eve...</td>\n",
       "      <td>[believe, film, best, story, ever, told, film,...</td>\n",
       "      <td>believe film best story ever told film tell ti...</td>\n",
       "    </tr>\n",
       "    <tr>\n",
       "      <th>3</th>\n",
       "      <td>True</td>\n",
       "      <td>**Yes, there are SPOILERS here**This film has ...</td>\n",
       "      <td>[yes, spoiler, film, emotional, impact, find, ...</td>\n",
       "      <td>yes spoiler film emotional impact find hard wr...</td>\n",
       "    </tr>\n",
       "    <tr>\n",
       "      <th>4</th>\n",
       "      <td>True</td>\n",
       "      <td>At the heart of this extraordinary movie is a ...</td>\n",
       "      <td>[heart, extraordinary, movie, brilliant, indel...</td>\n",
       "      <td>heart extraordinary movie brilliant indelible ...</td>\n",
       "    </tr>\n",
       "    <tr>\n",
       "      <th>...</th>\n",
       "      <td>...</td>\n",
       "      <td>...</td>\n",
       "      <td>...</td>\n",
       "      <td>...</td>\n",
       "    </tr>\n",
       "    <tr>\n",
       "      <th>573908</th>\n",
       "      <td>False</td>\n",
       "      <td>Go is wise, fast and pure entertainment. Assem...</td>\n",
       "      <td>[go, wise, fast, pure, entertainment, assembli...</td>\n",
       "      <td>go wise fast pure entertainment assembling exc...</td>\n",
       "    </tr>\n",
       "    <tr>\n",
       "      <th>573909</th>\n",
       "      <td>False</td>\n",
       "      <td>Well, what shall I say. this one´s fun at any ...</td>\n",
       "      <td>[well, shall, say, one, fun, rate, three, plot...</td>\n",
       "      <td>well shall say one fun rate three plotlines or...</td>\n",
       "    </tr>\n",
       "    <tr>\n",
       "      <th>573910</th>\n",
       "      <td>False</td>\n",
       "      <td>Go is the best movie I have ever seen, and I'v...</td>\n",
       "      <td>[go, best, movie, ever, seen, seen, lot, movie...</td>\n",
       "      <td>go best movie ever seen seen lot movie read re...</td>\n",
       "    </tr>\n",
       "    <tr>\n",
       "      <th>573911</th>\n",
       "      <td>False</td>\n",
       "      <td>Call this 1999 teenage version of Pulp Fiction...</td>\n",
       "      <td>[call, 1999, teenage, version, pulp, fiction, ...</td>\n",
       "      <td>call 1999 teenage version pulp fiction whateve...</td>\n",
       "    </tr>\n",
       "    <tr>\n",
       "      <th>573912</th>\n",
       "      <td>False</td>\n",
       "      <td>Why was this movie made? No doubt to sucker in...</td>\n",
       "      <td>[movie, made, doubt, sucker, family, rebelling...</td>\n",
       "      <td>movie made doubt sucker family rebelling mtv f...</td>\n",
       "    </tr>\n",
       "  </tbody>\n",
       "</table>\n",
       "<p>573913 rows × 4 columns</p>\n",
       "</div>"
      ],
      "text/plain": [
       "        is_spoiler                                        review_text  \\\n",
       "0             True  In its Oscar year, Shawshank Redemption (writt...   \n",
       "1             True  The Shawshank Redemption is without a doubt on...   \n",
       "2             True  I believe that this film is the best story eve...   \n",
       "3             True  **Yes, there are SPOILERS here**This film has ...   \n",
       "4             True  At the heart of this extraordinary movie is a ...   \n",
       "...            ...                                                ...   \n",
       "573908       False  Go is wise, fast and pure entertainment. Assem...   \n",
       "573909       False  Well, what shall I say. this one´s fun at any ...   \n",
       "573910       False  Go is the best movie I have ever seen, and I'v...   \n",
       "573911       False  Call this 1999 teenage version of Pulp Fiction...   \n",
       "573912       False  Why was this movie made? No doubt to sucker in...   \n",
       "\n",
       "                                             clean_review  \\\n",
       "0       [oscar, year, shawshank, redemption, written, ...   \n",
       "1       [shawshank, redemption, without, doubt, one, b...   \n",
       "2       [believe, film, best, story, ever, told, film,...   \n",
       "3       [yes, spoiler, film, emotional, impact, find, ...   \n",
       "4       [heart, extraordinary, movie, brilliant, indel...   \n",
       "...                                                   ...   \n",
       "573908  [go, wise, fast, pure, entertainment, assembli...   \n",
       "573909  [well, shall, say, one, fun, rate, three, plot...   \n",
       "573910  [go, best, movie, ever, seen, seen, lot, movie...   \n",
       "573911  [call, 1999, teenage, version, pulp, fiction, ...   \n",
       "573912  [movie, made, doubt, sucker, family, rebelling...   \n",
       "\n",
       "                                        clean_review_text  \n",
       "0       oscar year shawshank redemption written direct...  \n",
       "1       shawshank redemption without doubt one brillia...  \n",
       "2       believe film best story ever told film tell ti...  \n",
       "3       yes spoiler film emotional impact find hard wr...  \n",
       "4       heart extraordinary movie brilliant indelible ...  \n",
       "...                                                   ...  \n",
       "573908  go wise fast pure entertainment assembling exc...  \n",
       "573909  well shall say one fun rate three plotlines or...  \n",
       "573910  go best movie ever seen seen lot movie read re...  \n",
       "573911  call 1999 teenage version pulp fiction whateve...  \n",
       "573912  movie made doubt sucker family rebelling mtv f...  \n",
       "\n",
       "[573913 rows x 4 columns]"
      ]
     },
     "execution_count": 25,
     "metadata": {},
     "output_type": "execute_result"
    }
   ],
   "source": [
    "dataRew"
   ]
  },
  {
   "cell_type": "code",
   "execution_count": 28,
   "metadata": {},
   "outputs": [],
   "source": [
    "def tokenize_text(text):\n",
    "    from transformers import BertTokenizer\n",
    "    tokenizer=BertTokenizer.from_pretrained('bert-base-uncased')\n",
    "    return tokenizer(text, padding=True, truncation=True, return_tensors=\"pt\")\n",
    "\n"
   ]
  },
  {
   "cell_type": "code",
   "execution_count": 29,
   "metadata": {},
   "outputs": [
    {
     "data": {
      "application/vnd.jupyter.widget-view+json": {
       "model_id": "222b442d3fe14909ae01e4b614cf6978",
       "version_major": 2,
       "version_minor": 0
      },
      "text/plain": [
       "VBox(children=(HBox(children=(IntProgress(value=0, description='0.00%', max=57392), Label(value='0 / 57392')))…"
      ]
     },
     "metadata": {},
     "output_type": "display_data"
    }
   ],
   "source": [
    "# Applica la funzione in parallelo ai dati\n",
    "tokenized_data = dataRew['clean_review_text'].parallel_apply(tokenize_text)"
   ]
  },
  {
   "cell_type": "code",
   "execution_count": null,
   "metadata": {},
   "outputs": [],
   "source": [
    "tokenized_data"
   ]
  }
 ],
 "metadata": {
  "kernelspec": {
   "display_name": "Python 3",
   "language": "python",
   "name": "python3"
  },
  "language_info": {
   "codemirror_mode": {
    "name": "ipython",
    "version": 3
   },
   "file_extension": ".py",
   "mimetype": "text/x-python",
   "name": "python",
   "nbconvert_exporter": "python",
   "pygments_lexer": "ipython3",
   "version": "3.11.3"
  }
 },
 "nbformat": 4,
 "nbformat_minor": 2
}
